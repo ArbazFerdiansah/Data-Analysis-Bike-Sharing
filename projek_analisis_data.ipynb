# Proyek Analisis Data: Bike Sharing Dataset
- **Nama:** Arbaz Ferdiansah
- **Email:** doozyarbaz@gmail.com
- **ID Dicoding:** arbaz_ferdiansah
## Menentukan Pertanyaan Bisnis
- Bagaimana mengidentifikasi pola penggunaan sepeda berdasarkan waktu (jam) dalam sehari menggunakan clustering untuk mengoptimalkan ketersediaan sepeda?
- Bagaimana pola penggunaan sepeda berbeda antara hari kerja dan akhir pekan menggunakan analisis RFM sederhana?
## Import Semua Packages/Library yang Digunakan
import numpy as np
import pandas as pd
import matplotlib.pyplot as plt
import seaborn as sns
from sklearn.preprocessing import StandardScaler
from sklearn.cluster import KMeans
from sklearn.metrics import silhouette_score
## Data Wrangling
### Gathering Data
hour_df = pd.read_csv("data/hour.csv")

day_df = pd.read_csv("data/day.csv")
hour_df.head()
day_df.head()
**Insight:**
- **hour.csv** = jumlah berbagi sepeda diagregasi per jam (17389 jam). Kolom: indeks rekaman, tanggal, musim, tahun, bulan, jam, liburan, hari dalam seminggu, hari kerja, cuaca, suhu, kelembaban, kecepatan angin, jumlah pengguna sepeda kasual, jumlah pengguna sepeda terdaftar, total sepeda sewaan.
- **day.csv** = jumlah berbagi sepeda yang dikumpulkan setiap hari (721 hari). Kolom: indeks rekaman, tanggal, musim, tahun, bulan, liburan, hari dalam seminggu, hari kerja, cuaca, suhu, kelembaban, kecepatan angin, jumlah pengguna sepeda kasual, jumlah pengguna sepeda terdaftar, total sepeda sewaan
- Kedua file mempunyai kolom yang sama, kecuali kolom 'hour'
### Assessing Data
#Menilai Data hour_df
hour_df.info()
print(f"Missing values: {hour_df.isna().sum()}")
print(f"Jumlah duplikasi: {hour_df.duplicated().sum()}")
hour_df.describe()
#Menilai Data day_df
day_df.info()
print(f"Missing values: {day_df.isna().sum()}")
print(f"Jumlah duplikasi: {day_df.duplicated().sum()}")
day_df.describe()
**Insight:**
- **hour.csv** = Tidak ada _missing values_ dan _duplicates_, tetapi tipe data pada kolom _dteday_ seharusnya _datetime_
- **day.csv** = Tidak ada _missing values_ dan _duplicates_, tetapi tipe data pada kolom _dteday_ seharusnya _datetime_
### Cleaning Data
# Mengubah tipe data kolom dteday menjadi datetime
day_df['dteday'] = pd.to_datetime(day_df['dteday']) 
# Memastikan perubahan berhasil
day_df.info()
# Mengubah tipe data dteday menjadi datetime
hour_df['dteday'] = pd.to_datetime(hour_df['dteday']) 
# Memastikan perubahan berhasil
hour_df.info()
**Insight:**
- **hour.csv** = mengubah tipe data di kolom dteday dari _object_ menjadi _datetime_
- **day.csv** = mengubah tipe data di kolom dteday dari _object_ menjadi _datetime_
## Exploratory Data Analysis (EDA)
### **Eksplorasi Data**
# Menggunakan replace untuk mengganti nilai
# Menggunakan def untuk tidak menuliskan dua kali
def replace_season(df):
    df["season"] = df["season"].replace({
        1: "Musim Semi", 
        2: "Musim Panas", 
        3: "Musim Gugur", 
        4: "Musim Dingin"
    })
    return df

hour_df = replace_season(hour_df)
day_df = replace_season(day_df)
**Insight:**
- Mengganti nilai pada kolom season dari 1 - 4 menjadi musim semi, musim panas, musim gugur, musim dingin
# Menggunakan replace untuk mengganti nilai
def replace_year(df):
    df["yr"] = df["yr"].replace({
        0: 2011,
        1: 2012
    })
    return df

hour_df = replace_year(hour_df)
day_df = replace_year(day_df)
**Insight:**
- Mengganti nilai pada kolom yr dari 0 dan 1 menjadi 2011 dan 2012
# Menggunakan replace untuk mengganti nilai
def replace_month(df):
  df["mnth"] = df ["mnth"].replace({
    1: "Januari",
    2: "Februari",
    3: "Maret",
    4: "April",
    5: "Mei",
    6: "Juni",
    7: "Juli",
    8: "Agustus",
    9: "September",
    10: "Oktober",
    11: "November",
    12: "Desember"
  })
  
hour_df = replace_month(hour_df)
day_df = replace_month(day_df)
**Insight:**
- Mengganti nilai pada kolom mnth dari 1 sampai 12 menjadi Januari sampai Desember
hour_df = pd.DataFrame({
    "holiday" : [0, 1]
})

day_df = pd.DataFrame({
    "holiday" : [0, 1]
})


# Menggunakan replace untuk mengganti nilai
def replace_holiday(df):
    df["holiday"] = df["holiday"].replace({
        0: "Liburan",
        1: "Tidak Liburan"
    })
    return df

hour_df = replace_holiday(hour_df)
day_df = replace_holiday(day_df)
**Insight:**
- Mengganti nilai pada kolom holiday dari 0 dan 1 menjadi liburan dan tidak liburan
hour_df = pd.DataFrame({
    "weekday" : [0, 1, 2, 3, 4, 5, 6]
})

day_df = pd.DataFrame({
    "weekday" : [0, 1, 2, 3, 4, 5, 6]
})

# Menggunakan replace untuk mengganti nilai
def replace_weekday(df):
    df["weekday"] = df["weekday"].replace({
        0: "Senin",
        1: "Selasa",
        2: "Rabu",
        3: "Kamis",
        4: "Jumat",
        5: "Sabtu",
        6: "Minggu"
    })
    return df

hour_df = replace_weekday(hour_df)
day_df = replace_weekday(day_df)
**Insight:**
- Mengganti nilai pada kolom weekday dari 0 sampai 6 menjadi Senin, Selasa, Rabu, Kamis, Jumat, Sabtu, Minggu
hour_df = pd.DataFrame({
    "workingday" : [0, 1]
})

day_df = pd.DataFrame({
    "workingday" : [0, 1]
})

# Menggunakan replace untuk mengganti nilai
def replace_workingday(df):
    df["workingday"] = df["workingday"].replace({
        0: "Akhir Pekan",
        1: "Hari Kerja"
    })
    return df

hour_df = replace_workingday(hour_df)
day_df = replace_workingday(day_df)
**Insight:**
- Mengganti nilai pada kolom workingday dari 1 dan 0 menjadi hari kerja dan akhir pekan
hour_df = pd.DataFrame({
    "weathersit" : [1, 2, 3, 4]
})

day_df = pd.DataFrame({
    "weathersit" : [1, 2, 3, 4]
})

# Menggunakan replace untuk mengganti nilai
def replace_weathersit(df):
    df["weathersit"] = df["weathersit"].replace({
        1: "Cerah atau Sedikit Awan",
        2: "Kabut dan Berawan",
        3: "Hujan Ringan dan Badai Petir atau Salju Ringan",
        4: "Hujan Lebat dan Badai Petir atau Salju"
    })
    return df

hour_df = replace_weathersit(hour_df)
day_df = replace_weathersit(day_df)
**Insight:**
- Mengganti nilai pada kolom weathersit dari 1 sampai 4 menjadi cerah sampai hujan lebat
## Visualization & Explanatory Analysis
1. Bagaimana mengidentifikasi pola penggunaan sepeda berdasarkan waktu (jam) dalam sehari menggunakan clustering untuk mengoptimalkan ketersediaan sepeda?
# Menyimpan dataset "hour.csv" dalam variabel df
df = pd.read_csv('data/hour.csv')

# Mengelompokkan data berdasarkan kolom "hr" dan dihitung rata-rata jumlah pengguna sepeda untuk setiap jam
data_cluster = df.groupby('hr')[['cnt']].mean().reset_index()

# Normalisasi data dengan StandardScaler untuk mengubah skala variabel sehingga memiliki mean 0 dan sd 1
scaler = StandardScaler()
data_scaled = scaler.fit_transform(data_cluster)

# Melakukan clustering dengan KMeans (misalnya dengan 3 cluster)
kmeans = KMeans(n_clusters=3, random_state=42)
data_cluster['cluster'] = kmeans.fit_predict(data_scaled)

# Visualisasi hasil dengan scatter plot
plt.figure(figsize=(10, 6))
sns.scatterplot(data=data_cluster, x='hr', y='cnt', hue='cluster', palette='deep')
plt.title('Pola Penggunaan Sepeda Berdasarkan Jam')
plt.xlabel('Jam')
plt.ylabel('Rata-rata Jumlah Sepeda')
plt.show()

# Analisis karakteristik setiap cluster 
print("\nKarakteristik Cluster:")
for cluster in range(3):
    cluster_data = data_cluster[data_cluster['cluster'] == cluster]
    print(f"\nCluster {cluster}:")
    print(f"Jam: {cluster_data['hr'].tolist()}")
    print(f"Rata-rata penggunaan: {cluster_data['cnt'].mean():.2f}")
2. Bagaimana pola penggunaan sepeda berbeda antara hari kerja dan akhir pekan menggunakan analisis RFM sederhana?
# Menyimpan dataset "day.csv" dalam variabel df
df = pd.read_csv('data/day.csv')

# Menghitung metrik RFM sederhana
def calculate_rfm(data, is_workday):
    # Filter hari kerja atau akhir pekan berdasarkan kolom "workingday"
    subset = data[data['workingday'] == is_workday]
    
    # Recency: jumlah  hari sejak hari terakhir penggunaan sepeda hingga akhir data
    max_date = pd.to_datetime(subset['dteday']).max()
    recency = (max_date - pd.to_datetime(subset['dteday'])).dt.days
    
    # Frequency: jumlah hari penggunaan sepeda per bulan
    frequency = subset.groupby(pd.to_datetime(subset['dteday']).dt.month)['cnt'].count()
    
    # Monetary: jumlah penggunaan sepeda
    monetary = subset['cnt']
    
    return recency, frequency, monetary

# Menghitung RFM untuk hari kerja dan akhir pekan
r_work, f_work, m_work = calculate_rfm(df, 1)  # hari kerja
r_weekend, f_weekend, m_weekend = calculate_rfm(df, 0)  # akhir pekan

# Visualisasi perbandingan dengan ukuran 15x5 untuk visualisasi perbandingan
plt.figure(figsize=(15, 5))

# Monetary : membandingkan distribusi jumlah penggunaan sepeda hari kerja dengan akhir pekan dengan plot box plot
plt.subplot(1, 3, 1)
plt.boxplot([m_work, m_weekend], labels=['Hari Kerja', 'Akhir Pekan'])
plt.title('Distribusi Jumlah Penggunaan')
plt.ylabel('Total Penggunaan')

# Frequency : menampilkan rata-rata frekuensi penggunaan sepeda per bulan hari kerja dengan akhir pekan dengan bar plot
plt.subplot(1, 3, 2)
plt.bar(['Hari Kerja', 'Akhir Pekan'], 
        [f_work.mean(), f_weekend.mean()])
plt.title('Rata-rata Frequency per Bulan')
plt.ylabel('Frekuensi')

# Recency : menampilkan rata-rata recency (dalam hari) antara hari kerja dan akhir pekan dengan bar plot
plt.subplot(1, 3, 3)
plt.bar(['Hari Kerja', 'Akhir Pekan'], 
        [r_work.mean(), r_weekend.mean()])
plt.title('Rata-rata Recency (Hari)')
plt.ylabel('Hari')

plt.tight_layout()         # Supaya tampilan plot lebih rapi
plt.show()                 # Menampilkan plot

# Print ringkasan statistik untuk hari kerja dan akhir pekan
print("\nRingkasan Statistik:")
print("\nHari Kerja:")
print(f"Rata-rata penggunaan: {m_work.mean():.2f}")
print(f"Rata-rata frequency per bulan: {f_work.mean():.2f}")
print(f"Rata-rata recency: {r_work.mean():.2f} hari")

print("\nAkhir Pekan:")
print(f"Rata-rata penggunaan: {m_weekend.mean():.2f}")
print(f"Rata-rata frequency per bulan: {f_weekend.mean():.2f}")
print(f"Rata-rata recency: {r_weekend.mean():.2f} hari")
**Insight:**
- **Nomor 1**

Karakteristik Cluster:

_Cluster 0:_

Jam: [8, 17, 18]

Rata-rata penggunaan: 415.32

_Cluster 1:_

Jam: [7, 9, 10, 11, 12, 13, 14, 15, 16, 19, 20, 21, 22, 23]

Rata-rata penggunaan: 218.10

_Cluster 2:_

Jam: [0, 1, 2, 3, 4, 5, 6]

Rata-rata penggunaan: 32.02

- **Nomor 2**

Ringkasan Statistik:

_Hari Kerja:_

Rata-rata penggunaan: 4584.82

Rata-rata frequency per bulan: 41.67

Rata-rata recency: 365.62 hari

_Akhir Pekan:_

Rata-rata penggunaan: 4330.17

Rata-rata frequency per bulan: 19.25

Rata-rata recency: 362.65 hari
## Conclusion
- Conclusion pertanyaan 1
  1. Terdapat tiga pola utalam dalam penggunaan sepeda berdasarkan jam dari hasil clustering dengan KMeans, yaitu:   
      - Cluster 0: menunjukkan jam-jam dengan jumlah penggunaan sepeda yang lebih rendah, saat pagi atau malam hari ketika aktivitas tidak tinggi.
      - Cluster 1: menunjukkan jam-jam dengan jumlah penggunaan sepeda yang lebih tinggi, saat jam kerja atau pulang kerja.
      - Cluster 2: menunjukkan jam-jam dengan jumlah penggunaan sepeda yang sangat tinggi, saat jam sibuk di pagi atau sore hari.
  2. Pola penggunaan sepeda berbeda setiap jam berdasarkan distribusi per jam dan penggunaan sepeda rata-rata di setiap klaster yang berguna untuk mengidentifikasi waktu dengan permintaan tinggi guna mengoptimalkan ketersediaan sepeda.

- Conclusion pertanyaan 2
  
  2. Sepeda lebih banyak dan lebih rutin digunakan pada hari kerja dibandingkan akhir pekan berdasarkan rata-rata penggunaan, frekuensi, dan recency. Hal ini menunjukkan pola penggunaan yang lebih dominan pada hari kerja, sedangkan pengunaan di akhir pekan cenderung lebih bervariasi tergantung pada kondisi cuaca, acara, atau aktivitas lainnya.
### Menyimpan berkas data yang telah dianalisis
# Menyimpan dataset "hour.csv" dalam variabel df
df = pd.read_csv('data/hour.csv')

# 1. Analisis Clustering berdasarkan waktu
def create_clustering_results():
    # Menghitung rata-rata penggunaan per jam
    hourly_pattern = df.groupby('hr')[['cnt']].mean().reset_index()
    
    # Clustering
    scaler = StandardScaler()                                          # Normalisasi kolom "cnt" pada "hourly_pattern"
    data_scaled = scaler.fit_transform(hourly_pattern)
    kmeans = KMeans(n_clusters=3, random_state=42)                     # Melakukan clustering dengan 3 cluster
    hourly_pattern['cluster'] = kmeans.fit_predict(data_scaled)
    
    return hourly_pattern                                              # Mengembalikan hasil clustering

# 2. Analisis RFM untuk hari kerja vs weekend
def create_rfm_results():
    # Membuat analisis RFM berdasarkan "workingday" dan "dteday"
    workday_analysis = df.groupby(['dteday', 'workingday']).agg({
        'cnt': 'sum',
        'casual': 'sum',
        'registered': 'sum'
    }).reset_index()
    
    return workday_analysis                                           # Mengembalikan hasil akumulasi RFM per tanggal dan kategori hari kerja

clustering_results = create_clustering_results()                      # Memanggil hasil analisis clustering dan disimpan dalam variavel clustering_results
rfm_results = create_rfm_results()                                    # Memanggil hasil analisis RFM dan disimpan dalam variabel rfm_results

# Menyimpan hasil analisis ke CSV
clustering_results.to_csv('clustering_results.csv', index=False)
rfm_results.to_csv('rfm_results.csv', index=False)
